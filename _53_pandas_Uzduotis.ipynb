{
 "cells": [
  {
   "cell_type": "markdown",
   "metadata": {},
   "source": [
    "# Atsiskaitymas iš Pandas"
   ]
  },
  {
   "cell_type": "code",
   "execution_count": 119,
   "metadata": {},
   "outputs": [],
   "source": [
    "import pandas as pd\n",
    "import numpy as np\n",
    "import seaborn as sns\n",
    "\n",
    "titanic = sns.load_dataset('titanic')[['survived', 'pclass', 'sex', 'age', 'fare']]"
   ]
  },
  {
   "cell_type": "markdown",
   "metadata": {},
   "source": [
    "titanic yra duomenų rinkinys apie dalį Titaniko keleivių - jų amžių, lytį, bilieto klasę ir kainą, bei ar jie išgyveno tragediją.\n",
    "\n",
    "Stulpeliai, kuriuos naudosime:\n",
    "\n",
    "    survived - ar keleivis išgyveno (1 reiškia taip, 0 reiškia ne)\n",
    "    pclass - keleivio bilieto klasė (pirma, antra, trečia)\n",
    "    sex - keleivio lytis\n",
    "    age - keleivio amžius. Jei keleivio amžius < 1, tuomet dešimtainė trupmena (pavyzdžiui 0.75 reiškia, kad keleiviui buvo 9 mėnesiai), jei keleivio amžius žinomas tik apytiksliai, tuomet po kablelio yra 5 (pavyzdžiui 28.5 reiškia, kad keleiviui buvo apytiksliai 28 metai).\n",
    "    fare - kaina doleriais, kurią keleivis sumokėjo už bilietą\n",
    "\n",
    "Visi klausimai bus tik apie šį dataframe (titanic), todėl klausimų formuluotėse tai nebus kartojama.\n",
    "\n",
    "Testui skirtas laikas - 90 minučių"
   ]
  },
  {
   "cell_type": "code",
   "execution_count": 1,
   "metadata": {},
   "outputs": [],
   "source": [
    "# 1. (1t)\n",
    "# Atspausdinkite pirmas 10 eilučių"
   ]
  },
  {
   "cell_type": "code",
   "execution_count": null,
   "metadata": {},
   "outputs": [],
   "source": []
  },
  {
   "cell_type": "code",
   "execution_count": 2,
   "metadata": {},
   "outputs": [],
   "source": [
    "# 2. (1t)\n",
    "# Kiek eilučių ir stulpelių yra iš viso?"
   ]
  },
  {
   "cell_type": "code",
   "execution_count": null,
   "metadata": {},
   "outputs": [],
   "source": []
  },
  {
   "cell_type": "code",
   "execution_count": 3,
   "metadata": {},
   "outputs": [],
   "source": [
    "# 3. (1t)\n",
    "# Atspausdinkite tik stulpelius 'age' ir 'fare'"
   ]
  },
  {
   "cell_type": "code",
   "execution_count": null,
   "metadata": {},
   "outputs": [],
   "source": []
  },
  {
   "cell_type": "code",
   "execution_count": 4,
   "metadata": {},
   "outputs": [],
   "source": [
    "# 4. (1t)\n",
    "# Atspausdinkite tik tas eilutes, kurių keleiviai plaukė pirmąja klase"
   ]
  },
  {
   "cell_type": "code",
   "execution_count": null,
   "metadata": {},
   "outputs": [],
   "source": []
  },
  {
   "cell_type": "code",
   "execution_count": 5,
   "metadata": {},
   "outputs": [],
   "source": [
    "# 5. (1t)\n",
    "# Kokia buvo vidutinė bilieto kaina, koks vidutinis keleivių amžius?"
   ]
  },
  {
   "cell_type": "code",
   "execution_count": null,
   "metadata": {},
   "outputs": [],
   "source": []
  },
  {
   "cell_type": "code",
   "execution_count": 6,
   "metadata": {},
   "outputs": [],
   "source": [
    "# 6. (2t)\n",
    "# Sukurkite naują stulpelį 'adult', kurio reikšmė būtų True,\n",
    "# jei keleivio amžius yra didesnis arba lygus 18 ir False, kitu atveju"
   ]
  },
  {
   "cell_type": "code",
   "execution_count": null,
   "metadata": {},
   "outputs": [],
   "source": []
  },
  {
   "cell_type": "code",
   "execution_count": 7,
   "metadata": {},
   "outputs": [],
   "source": [
    "# 7. (2t)\n",
    "# Kiek metų buvo vyriausiam vyrui laive?"
   ]
  },
  {
   "cell_type": "code",
   "execution_count": null,
   "metadata": {},
   "outputs": [],
   "source": []
  },
  {
   "cell_type": "code",
   "execution_count": 8,
   "metadata": {},
   "outputs": [],
   "source": [
    "# 8. (1t)\n",
    "# Kiek iš viso plaukė moterų ir kiek vyrų?"
   ]
  },
  {
   "cell_type": "code",
   "execution_count": null,
   "metadata": {},
   "outputs": [],
   "source": []
  },
  {
   "cell_type": "code",
   "execution_count": 9,
   "metadata": {},
   "outputs": [],
   "source": [
    "# 9. (3t)\n",
    "# Pakeiskite stulpelį 'pclass' taip,\n",
    "# kad vietoje 1 būtų reikšmė 'first',\n",
    "# vietoje 2 būtų 'second',\n",
    "# o vietoje 3 būtų 'third'"
   ]
  },
  {
   "cell_type": "code",
   "execution_count": null,
   "metadata": {},
   "outputs": [],
   "source": []
  },
  {
   "cell_type": "code",
   "execution_count": 10,
   "metadata": {},
   "outputs": [],
   "source": [
    "# 10. (2t)\n",
    "# Kiek vidutiniškai už bilietą mokėjo vyrai ir moterys kiekvienoje klasėje?\n",
    "# Ar teisinga teigti, kad visose trijose klasėse plaukusios moterys už bilietus mokėjo daugiau nei vyrai?"
   ]
  },
  {
   "cell_type": "code",
   "execution_count": null,
   "metadata": {},
   "outputs": [],
   "source": []
  },
  {
   "cell_type": "code",
   "execution_count": 12,
   "metadata": {},
   "outputs": [],
   "source": [
    "# 11. (6t)\n",
    "# Kiek žmonių plaukė kiekvienoje klasėje ir kiek iš jų išgyveno?\n",
    "# Kiek procentų kiekvienos klasės keleivių išgyveno?\n",
    "# Ar teisinga teigti, kad aukštesnėje klasėje plaukę keleiviai turėjo didesnę tikimybę išgyventi?\n",
    "# (Viename iš sprendimo būdų gali praversti funkcija np.size())"
   ]
  },
  {
   "cell_type": "code",
   "execution_count": null,
   "metadata": {},
   "outputs": [],
   "source": []
  },
  {
   "cell_type": "code",
   "execution_count": 13,
   "metadata": {},
   "outputs": [],
   "source": [
    "# 12. (1t)\n",
    "# Pervadinkite stulpelį 'pclass' į 'class'"
   ]
  },
  {
   "cell_type": "code",
   "execution_count": null,
   "metadata": {},
   "outputs": [],
   "source": []
  },
  {
   "cell_type": "code",
   "execution_count": 14,
   "metadata": {},
   "outputs": [],
   "source": [
    "# 13. (2t)\n",
    "# Sukurkite naują DataFrame 'titanic_known_age',\n",
    "# kuriame būtų tik tos titanic eilutės, kuriose netrūksta amžiaus reikšmės"
   ]
  },
  {
   "cell_type": "code",
   "execution_count": null,
   "metadata": {},
   "outputs": [],
   "source": []
  },
  {
   "cell_type": "code",
   "execution_count": 15,
   "metadata": {},
   "outputs": [],
   "source": [
    "# 14. (2t)\n",
    "# Išrikiuokite lentelę pagal amžių mažėjimo tvarka\n",
    "# Padarykite taip, kad trūkstamos (NaN) reikšmės būtų viršuje (+1t)"
   ]
  },
  {
   "cell_type": "code",
   "execution_count": null,
   "metadata": {},
   "outputs": [],
   "source": []
  },
  {
   "cell_type": "code",
   "execution_count": 16,
   "metadata": {},
   "outputs": [],
   "source": [
    "# 15. (1t)\n",
    "# Išsaugokite kurią nors lentelę į csv failą pavadinimu 'rezultatas.csv'"
   ]
  },
  {
   "cell_type": "code",
   "execution_count": null,
   "metadata": {},
   "outputs": [],
   "source": []
  },
  {
   "cell_type": "code",
   "execution_count": 19,
   "metadata": {
    "scrolled": false
   },
   "outputs": [],
   "source": [
    "# 16. (3t)\n",
    "# Paaiškinkite kaip veikia ir ką padaro šis kodas\n",
    "titanic.groupby((titanic['age']//10)*10)['survived'].apply(lambda x: round(sum(x)/len(x)*100, 1))"
   ]
  },
  {
   "cell_type": "code",
   "execution_count": null,
   "metadata": {},
   "outputs": [],
   "source": []
  }
 ],
 "metadata": {
  "kernelspec": {
   "display_name": "Python 3",
   "language": "python",
   "name": "python3"
  },
  "language_info": {
   "codemirror_mode": {
    "name": "ipython",
    "version": 3
   },
   "file_extension": ".py",
   "mimetype": "text/x-python",
   "name": "python",
   "nbconvert_exporter": "python",
   "pygments_lexer": "ipython3",
   "version": "3.8.8"
  },
  "toc": {
   "base_numbering": 1,
   "nav_menu": {},
   "number_sections": true,
   "sideBar": true,
   "skip_h1_title": false,
   "title_cell": "Table of Contents",
   "title_sidebar": "Contents",
   "toc_cell": false,
   "toc_position": {},
   "toc_section_display": true,
   "toc_window_display": false
  }
 },
 "nbformat": 4,
 "nbformat_minor": 4
}
